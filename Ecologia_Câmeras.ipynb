{
  "nbformat": 4,
  "nbformat_minor": 0,
  "metadata": {
    "colab": {
      "name": "Ecologia - Câmeras",
      "provenance": [],
      "collapsed_sections": [],
      "toc_visible": true,
      "include_colab_link": true
    },
    "kernelspec": {
      "name": "python3",
      "display_name": "Python 3"
    },
    "language_info": {
      "name": "python"
    }
  },
  "cells": [
    {
      "cell_type": "markdown",
      "metadata": {
        "id": "view-in-github",
        "colab_type": "text"
      },
      "source": [
        "<a href=\"https://colab.research.google.com/github/dezi159/Diversity/blob/main/Ecologia_C%C3%A2meras.ipynb\" target=\"_parent\"><img src=\"https://colab.research.google.com/assets/colab-badge.svg\" alt=\"Open In Colab\"/></a>"
      ]
    },
    {
      "cell_type": "markdown",
      "source": [
        "Importar os dados"
      ],
      "metadata": {
        "id": "ERUbiADKB7Ky"
      }
    },
    {
      "cell_type": "code",
      "execution_count": null,
      "metadata": {
        "colab": {
          "base_uri": "https://localhost:8080/"
        },
        "id": "s4MWCifFXakY",
        "outputId": "2464180c-bdfe-451b-e1db-7952d7f5e252"
      },
      "outputs": [
        {
          "output_type": "stream",
          "name": "stdout",
          "text": [
            "   project_id                         deployment_id  \\\n",
            "0     2000286  d4edd15c-1dc0-497d-96ac-5164981bdc43   \n",
            "1     2000286  d4edd15c-1dc0-497d-96ac-5164981bdc43   \n",
            "2     2000286  d4edd15c-1dc0-497d-96ac-5164981bdc43   \n",
            "3     2000286  d4edd15c-1dc0-497d-96ac-5164981bdc43   \n",
            "4     2000286  d4edd15c-1dc0-497d-96ac-5164981bdc43   \n",
            "\n",
            "                               image_id                              filename  \\\n",
            "0  90a2bd16-c212-4133-a326-f7130fb305e1  ab6358c7-8ed2-4941-8517-f166d58367f2   \n",
            "1  f74e586a-696a-4287-bd7e-99eb0ba1db7e  7aba560a-e412-4db1-98aa-08553509798c   \n",
            "2  9dcfd714-f567-4083-b0c9-6cde94c7070f  243de691-ce4f-4806-afae-b201292e6691   \n",
            "3  603ee4da-ed0e-44b3-b76d-8ec88e65cdc6  f7bcc907-6827-407d-b704-4a096fd301a4   \n",
            "4  db77ba05-6171-468a-ab92-9f66b3ff2768  32ad5267-caaa-43be-ab69-35f391ba581a   \n",
            "\n",
            "                                            location  is_blank  \\\n",
            "0  https://app.wildlifeinsights.org/download/2001...       NaN   \n",
            "1  https://app.wildlifeinsights.org/download/2001...       NaN   \n",
            "2  https://app.wildlifeinsights.org/download/2001...       NaN   \n",
            "3  https://app.wildlifeinsights.org/download/2001...       NaN   \n",
            "4  https://app.wildlifeinsights.org/download/2001...       NaN   \n",
            "\n",
            "                  identified_by                           wi_taxon_id  \\\n",
            "0   Robin Naidoo - Batch Upload  febff896-db40-4ac8-bcfe-5bb99a600950   \n",
            "1   Robin Naidoo - Batch Upload  febff896-db40-4ac8-bcfe-5bb99a600950   \n",
            "2   Robin Naidoo - Batch Upload  febff896-db40-4ac8-bcfe-5bb99a600950   \n",
            "3   Robin Naidoo - Batch Upload  febff896-db40-4ac8-bcfe-5bb99a600950   \n",
            "4   Robin Naidoo - Batch Upload  febff896-db40-4ac8-bcfe-5bb99a600950   \n",
            "\n",
            "      class            order  ...    age     sex animal_recognizable  \\\n",
            "0  Mammalia  Cetartiodactyla  ...  Adult  Female                 NaN   \n",
            "1  Mammalia  Cetartiodactyla  ...  Adult  Female                 NaN   \n",
            "2  Mammalia  Cetartiodactyla  ...  Adult  Female                 NaN   \n",
            "3  Mammalia  Cetartiodactyla  ...  Adult  Female                 NaN   \n",
            "4  Mammalia  Cetartiodactyla  ...  Adult  Female                 NaN   \n",
            "\n",
            "  individual_id  number_of_objects individual_animal_notes highlighted  \\\n",
            "0           NaN                  1                      {}       False   \n",
            "1           NaN                  1                      {}       False   \n",
            "2           NaN                  1                      {}       False   \n",
            "3           NaN                  1                      {}       False   \n",
            "4           NaN                  1                      {}       False   \n",
            "\n",
            "  markings cv_confidence   license  \n",
            "0      NaN           NaN  CC-BY-NC  \n",
            "1      NaN           NaN  CC-BY-NC  \n",
            "2      NaN           NaN  CC-BY-NC  \n",
            "3      NaN           NaN  CC-BY-NC  \n",
            "4      NaN           NaN  CC-BY-NC  \n",
            "\n",
            "[5 rows x 26 columns]\n"
          ]
        }
      ],
      "source": [
        "import pandas as pd\n",
        "import numpy as np  \n",
        "\n",
        "# Fazer o upload do arquivo 'dadosbrutos.csv' e 'deployment.csv' na barra lateral esquerda caso queira rodar o programa\n",
        "\n",
        "df = pd.read_csv('/content/dadosbrutos.csv', sep=',')\n",
        "print(df.head(5))\n",
        "\n"
      ]
    },
    {
      "cell_type": "markdown",
      "source": [
        "Colunas presentes no DataFrame"
      ],
      "metadata": {
        "id": "A1FzPEiKB3lg"
      }
    },
    {
      "cell_type": "code",
      "source": [
        "df.columns"
      ],
      "metadata": {
        "colab": {
          "base_uri": "https://localhost:8080/"
        },
        "id": "ncCT88UUcHdF",
        "outputId": "d54f1268-b9f4-4726-e68d-a4bd45de8893"
      },
      "execution_count": null,
      "outputs": [
        {
          "output_type": "execute_result",
          "data": {
            "text/plain": [
              "Index(['project_id', 'deployment_id', 'image_id', 'filename', 'location',\n",
              "       'is_blank', 'identified_by', 'wi_taxon_id', 'class', 'order', 'family',\n",
              "       'genus', 'species', 'common_name', 'uncertainty', 'timestamp', 'age',\n",
              "       'sex', 'animal_recognizable', 'individual_id', 'number_of_objects',\n",
              "       'individual_animal_notes', 'highlighted', 'markings', 'cv_confidence',\n",
              "       'license'],\n",
              "      dtype='object')"
            ]
          },
          "metadata": {},
          "execution_count": 80
        }
      ]
    },
    {
      "cell_type": "markdown",
      "source": [
        "Variável com as colunas essenciais"
      ],
      "metadata": {
        "id": "kwFXqZT-CA1u"
      }
    },
    {
      "cell_type": "code",
      "source": [
        "columns = df.drop(columns=['project_id', 'image_id', 'filename', 'is_blank', 'location', 'wi_taxon_id', 'identified_by', 'uncertainty', 'license', 'common_name', 'age', 'sex', 'animal_recognizable',\t'individual_id',\t'individual_animal_notes',\t'highlighted',\t'markings',\t'cv_confidence', 'license' ])"
      ],
      "metadata": {
        "id": "aW8B8K-CcNxs"
      },
      "execution_count": null,
      "outputs": []
    },
    {
      "cell_type": "code",
      "source": [
        "columns"
      ],
      "metadata": {
        "colab": {
          "base_uri": "https://localhost:8080/",
          "height": 641
        },
        "id": "UGuI3FyOxrqm",
        "outputId": "d79e22eb-c834-4f8d-8613-321e18d4fccd"
      },
      "execution_count": null,
      "outputs": [
        {
          "output_type": "execute_result",
          "data": {
            "text/plain": [
              "                               deployment_id      class            order  \\\n",
              "0       d4edd15c-1dc0-497d-96ac-5164981bdc43   Mammalia  Cetartiodactyla   \n",
              "1       d4edd15c-1dc0-497d-96ac-5164981bdc43   Mammalia  Cetartiodactyla   \n",
              "2       d4edd15c-1dc0-497d-96ac-5164981bdc43   Mammalia  Cetartiodactyla   \n",
              "3       d4edd15c-1dc0-497d-96ac-5164981bdc43   Mammalia  Cetartiodactyla   \n",
              "4       d4edd15c-1dc0-497d-96ac-5164981bdc43   Mammalia  Cetartiodactyla   \n",
              "...                                      ...        ...              ...   \n",
              "123861  97a0e2f0-5666-45d8-be09-e856498d6023  CV Failed        CV Failed   \n",
              "123862  97a0e2f0-5666-45d8-be09-e856498d6023  CV Failed        CV Failed   \n",
              "123863  97a0e2f0-5666-45d8-be09-e856498d6023  CV Failed        CV Failed   \n",
              "123864  97a0e2f0-5666-45d8-be09-e856498d6023  CV Failed        CV Failed   \n",
              "123865  97a0e2f0-5666-45d8-be09-e856498d6023  CV Failed        CV Failed   \n",
              "\n",
              "           family       genus    species            timestamp  \\\n",
              "0        Cervidae  Odocoileus   hemionus  2018-07-21 08:36:59   \n",
              "1        Cervidae  Odocoileus   hemionus  2018-07-22 19:40:51   \n",
              "2        Cervidae  Odocoileus   hemionus  2018-06-11 15:31:33   \n",
              "3        Cervidae  Odocoileus   hemionus  2018-07-18 04:47:22   \n",
              "4        Cervidae  Odocoileus   hemionus  2018-07-21 08:36:58   \n",
              "...           ...         ...        ...                  ...   \n",
              "123861  CV Failed   CV Failed  CV Failed  2018-12-16 01:56:29   \n",
              "123862  CV Failed   CV Failed  CV Failed  2018-12-16 06:33:37   \n",
              "123863  CV Failed   CV Failed  CV Failed  2018-12-16 06:32:17   \n",
              "123864  CV Failed   CV Failed  CV Failed  2019-01-01 03:33:23   \n",
              "123865  CV Failed   CV Failed  CV Failed  2018-12-16 04:19:25   \n",
              "\n",
              "        number_of_objects  \n",
              "0                       1  \n",
              "1                       1  \n",
              "2                       1  \n",
              "3                       1  \n",
              "4                       1  \n",
              "...                   ...  \n",
              "123861                  1  \n",
              "123862                  1  \n",
              "123863                  1  \n",
              "123864                  1  \n",
              "123865                  1  \n",
              "\n",
              "[123866 rows x 8 columns]"
            ],
            "text/html": [
              "\n",
              "  <div id=\"df-4e681378-5998-4fb4-b281-36ed2cfd343b\">\n",
              "    <div class=\"colab-df-container\">\n",
              "      <div>\n",
              "<style scoped>\n",
              "    .dataframe tbody tr th:only-of-type {\n",
              "        vertical-align: middle;\n",
              "    }\n",
              "\n",
              "    .dataframe tbody tr th {\n",
              "        vertical-align: top;\n",
              "    }\n",
              "\n",
              "    .dataframe thead th {\n",
              "        text-align: right;\n",
              "    }\n",
              "</style>\n",
              "<table border=\"1\" class=\"dataframe\">\n",
              "  <thead>\n",
              "    <tr style=\"text-align: right;\">\n",
              "      <th></th>\n",
              "      <th>deployment_id</th>\n",
              "      <th>class</th>\n",
              "      <th>order</th>\n",
              "      <th>family</th>\n",
              "      <th>genus</th>\n",
              "      <th>species</th>\n",
              "      <th>timestamp</th>\n",
              "      <th>number_of_objects</th>\n",
              "    </tr>\n",
              "  </thead>\n",
              "  <tbody>\n",
              "    <tr>\n",
              "      <th>0</th>\n",
              "      <td>d4edd15c-1dc0-497d-96ac-5164981bdc43</td>\n",
              "      <td>Mammalia</td>\n",
              "      <td>Cetartiodactyla</td>\n",
              "      <td>Cervidae</td>\n",
              "      <td>Odocoileus</td>\n",
              "      <td>hemionus</td>\n",
              "      <td>2018-07-21 08:36:59</td>\n",
              "      <td>1</td>\n",
              "    </tr>\n",
              "    <tr>\n",
              "      <th>1</th>\n",
              "      <td>d4edd15c-1dc0-497d-96ac-5164981bdc43</td>\n",
              "      <td>Mammalia</td>\n",
              "      <td>Cetartiodactyla</td>\n",
              "      <td>Cervidae</td>\n",
              "      <td>Odocoileus</td>\n",
              "      <td>hemionus</td>\n",
              "      <td>2018-07-22 19:40:51</td>\n",
              "      <td>1</td>\n",
              "    </tr>\n",
              "    <tr>\n",
              "      <th>2</th>\n",
              "      <td>d4edd15c-1dc0-497d-96ac-5164981bdc43</td>\n",
              "      <td>Mammalia</td>\n",
              "      <td>Cetartiodactyla</td>\n",
              "      <td>Cervidae</td>\n",
              "      <td>Odocoileus</td>\n",
              "      <td>hemionus</td>\n",
              "      <td>2018-06-11 15:31:33</td>\n",
              "      <td>1</td>\n",
              "    </tr>\n",
              "    <tr>\n",
              "      <th>3</th>\n",
              "      <td>d4edd15c-1dc0-497d-96ac-5164981bdc43</td>\n",
              "      <td>Mammalia</td>\n",
              "      <td>Cetartiodactyla</td>\n",
              "      <td>Cervidae</td>\n",
              "      <td>Odocoileus</td>\n",
              "      <td>hemionus</td>\n",
              "      <td>2018-07-18 04:47:22</td>\n",
              "      <td>1</td>\n",
              "    </tr>\n",
              "    <tr>\n",
              "      <th>4</th>\n",
              "      <td>d4edd15c-1dc0-497d-96ac-5164981bdc43</td>\n",
              "      <td>Mammalia</td>\n",
              "      <td>Cetartiodactyla</td>\n",
              "      <td>Cervidae</td>\n",
              "      <td>Odocoileus</td>\n",
              "      <td>hemionus</td>\n",
              "      <td>2018-07-21 08:36:58</td>\n",
              "      <td>1</td>\n",
              "    </tr>\n",
              "    <tr>\n",
              "      <th>...</th>\n",
              "      <td>...</td>\n",
              "      <td>...</td>\n",
              "      <td>...</td>\n",
              "      <td>...</td>\n",
              "      <td>...</td>\n",
              "      <td>...</td>\n",
              "      <td>...</td>\n",
              "      <td>...</td>\n",
              "    </tr>\n",
              "    <tr>\n",
              "      <th>123861</th>\n",
              "      <td>97a0e2f0-5666-45d8-be09-e856498d6023</td>\n",
              "      <td>CV Failed</td>\n",
              "      <td>CV Failed</td>\n",
              "      <td>CV Failed</td>\n",
              "      <td>CV Failed</td>\n",
              "      <td>CV Failed</td>\n",
              "      <td>2018-12-16 01:56:29</td>\n",
              "      <td>1</td>\n",
              "    </tr>\n",
              "    <tr>\n",
              "      <th>123862</th>\n",
              "      <td>97a0e2f0-5666-45d8-be09-e856498d6023</td>\n",
              "      <td>CV Failed</td>\n",
              "      <td>CV Failed</td>\n",
              "      <td>CV Failed</td>\n",
              "      <td>CV Failed</td>\n",
              "      <td>CV Failed</td>\n",
              "      <td>2018-12-16 06:33:37</td>\n",
              "      <td>1</td>\n",
              "    </tr>\n",
              "    <tr>\n",
              "      <th>123863</th>\n",
              "      <td>97a0e2f0-5666-45d8-be09-e856498d6023</td>\n",
              "      <td>CV Failed</td>\n",
              "      <td>CV Failed</td>\n",
              "      <td>CV Failed</td>\n",
              "      <td>CV Failed</td>\n",
              "      <td>CV Failed</td>\n",
              "      <td>2018-12-16 06:32:17</td>\n",
              "      <td>1</td>\n",
              "    </tr>\n",
              "    <tr>\n",
              "      <th>123864</th>\n",
              "      <td>97a0e2f0-5666-45d8-be09-e856498d6023</td>\n",
              "      <td>CV Failed</td>\n",
              "      <td>CV Failed</td>\n",
              "      <td>CV Failed</td>\n",
              "      <td>CV Failed</td>\n",
              "      <td>CV Failed</td>\n",
              "      <td>2019-01-01 03:33:23</td>\n",
              "      <td>1</td>\n",
              "    </tr>\n",
              "    <tr>\n",
              "      <th>123865</th>\n",
              "      <td>97a0e2f0-5666-45d8-be09-e856498d6023</td>\n",
              "      <td>CV Failed</td>\n",
              "      <td>CV Failed</td>\n",
              "      <td>CV Failed</td>\n",
              "      <td>CV Failed</td>\n",
              "      <td>CV Failed</td>\n",
              "      <td>2018-12-16 04:19:25</td>\n",
              "      <td>1</td>\n",
              "    </tr>\n",
              "  </tbody>\n",
              "</table>\n",
              "<p>123866 rows × 8 columns</p>\n",
              "</div>\n",
              "      <button class=\"colab-df-convert\" onclick=\"convertToInteractive('df-4e681378-5998-4fb4-b281-36ed2cfd343b')\"\n",
              "              title=\"Convert this dataframe to an interactive table.\"\n",
              "              style=\"display:none;\">\n",
              "        \n",
              "  <svg xmlns=\"http://www.w3.org/2000/svg\" height=\"24px\"viewBox=\"0 0 24 24\"\n",
              "       width=\"24px\">\n",
              "    <path d=\"M0 0h24v24H0V0z\" fill=\"none\"/>\n",
              "    <path d=\"M18.56 5.44l.94 2.06.94-2.06 2.06-.94-2.06-.94-.94-2.06-.94 2.06-2.06.94zm-11 1L8.5 8.5l.94-2.06 2.06-.94-2.06-.94L8.5 2.5l-.94 2.06-2.06.94zm10 10l.94 2.06.94-2.06 2.06-.94-2.06-.94-.94-2.06-.94 2.06-2.06.94z\"/><path d=\"M17.41 7.96l-1.37-1.37c-.4-.4-.92-.59-1.43-.59-.52 0-1.04.2-1.43.59L10.3 9.45l-7.72 7.72c-.78.78-.78 2.05 0 2.83L4 21.41c.39.39.9.59 1.41.59.51 0 1.02-.2 1.41-.59l7.78-7.78 2.81-2.81c.8-.78.8-2.07 0-2.86zM5.41 20L4 18.59l7.72-7.72 1.47 1.35L5.41 20z\"/>\n",
              "  </svg>\n",
              "      </button>\n",
              "      \n",
              "  <style>\n",
              "    .colab-df-container {\n",
              "      display:flex;\n",
              "      flex-wrap:wrap;\n",
              "      gap: 12px;\n",
              "    }\n",
              "\n",
              "    .colab-df-convert {\n",
              "      background-color: #E8F0FE;\n",
              "      border: none;\n",
              "      border-radius: 50%;\n",
              "      cursor: pointer;\n",
              "      display: none;\n",
              "      fill: #1967D2;\n",
              "      height: 32px;\n",
              "      padding: 0 0 0 0;\n",
              "      width: 32px;\n",
              "    }\n",
              "\n",
              "    .colab-df-convert:hover {\n",
              "      background-color: #E2EBFA;\n",
              "      box-shadow: 0px 1px 2px rgba(60, 64, 67, 0.3), 0px 1px 3px 1px rgba(60, 64, 67, 0.15);\n",
              "      fill: #174EA6;\n",
              "    }\n",
              "\n",
              "    [theme=dark] .colab-df-convert {\n",
              "      background-color: #3B4455;\n",
              "      fill: #D2E3FC;\n",
              "    }\n",
              "\n",
              "    [theme=dark] .colab-df-convert:hover {\n",
              "      background-color: #434B5C;\n",
              "      box-shadow: 0px 1px 3px 1px rgba(0, 0, 0, 0.15);\n",
              "      filter: drop-shadow(0px 1px 2px rgba(0, 0, 0, 0.3));\n",
              "      fill: #FFFFFF;\n",
              "    }\n",
              "  </style>\n",
              "\n",
              "      <script>\n",
              "        const buttonEl =\n",
              "          document.querySelector('#df-4e681378-5998-4fb4-b281-36ed2cfd343b button.colab-df-convert');\n",
              "        buttonEl.style.display =\n",
              "          google.colab.kernel.accessAllowed ? 'block' : 'none';\n",
              "\n",
              "        async function convertToInteractive(key) {\n",
              "          const element = document.querySelector('#df-4e681378-5998-4fb4-b281-36ed2cfd343b');\n",
              "          const dataTable =\n",
              "            await google.colab.kernel.invokeFunction('convertToInteractive',\n",
              "                                                     [key], {});\n",
              "          if (!dataTable) return;\n",
              "\n",
              "          const docLinkHtml = 'Like what you see? Visit the ' +\n",
              "            '<a target=\"_blank\" href=https://colab.research.google.com/notebooks/data_table.ipynb>data table notebook</a>'\n",
              "            + ' to learn more about interactive tables.';\n",
              "          element.innerHTML = '';\n",
              "          dataTable['output_type'] = 'display_data';\n",
              "          await google.colab.output.renderOutput(dataTable, element);\n",
              "          const docLink = document.createElement('div');\n",
              "          docLink.innerHTML = docLinkHtml;\n",
              "          element.appendChild(docLink);\n",
              "        }\n",
              "      </script>\n",
              "    </div>\n",
              "  </div>\n",
              "  "
            ]
          },
          "metadata": {},
          "execution_count": 82
        }
      ]
    },
    {
      "cell_type": "markdown",
      "source": [
        "Agrupamento e contagem dos animais de acordo com as datas e com os ID's das câmeras"
      ],
      "metadata": {
        "id": "S5f79ImhCFHu"
      }
    },
    {
      "cell_type": "code",
      "source": [
        "df['Dates'] = pd.to_datetime(df['timestamp']).dt.date \n",
        "df['Dates'] = pd.to_datetime(df['Dates'])\n",
        "\n",
        "selecao = (df['Dates'] >= '2018-06-21') & (df['Dates'] <= '2018-09-22')\n",
        " \n",
        "df_filtrado = df[selecao] \n",
        "\n",
        "df['Semana'] = df_filtrado['Dates'].dt.to_period('W')\n",
        "df['count'] = 0 \n",
        "dateandanimals = df.groupby(['Semana','deployment_id', 'class', 'order', 'family', 'genus', 'species']).count()['count'] \n",
        "print(dateandanimals)\n",
        "\n",
        "dateandanimals.to_excel('dateandanimals.xlsx') \n",
        "\n",
        "df2 = pd.read_csv('dateandanimals.csv', sep=',') # Precisa ter o arquivo 'dateandanimals.csv' no diretório\n",
        "df2 = df2.drop(columns=['Semana','deployment_id'])\n",
        "\n",
        "df2['count1'] = 0 \n",
        "animals = df2.groupby(['class', 'order', 'family', 'genus', 'species']).count()['count1']\n",
        "print(animals)\n",
        "\n",
        "animals.to_excel('animalshierarquia.xlsx')"
      ],
      "metadata": {
        "id": "0_ZVGUOmd5II",
        "colab": {
          "base_uri": "https://localhost:8080/"
        },
        "outputId": "0f545df4-ed31-43c8-9839-079113bfa2f6"
      },
      "execution_count": null,
      "outputs": [
        {
          "output_type": "stream",
          "name": "stdout",
          "text": [
            "Semana                 deployment_id                         class     order            family     genus       species   \n",
            "2018-06-18/2018-06-24  02da68eb-f69b-400f-8791-e58ba88d7531  Mammalia  Carnivora        Ursidae    Ursus       americanus     6\n",
            "                                                                       Cetartiodactyla  Cervidae   Odocoileus  hemionus       3\n",
            "                       082bcc05-abcc-4e22-9018-5a75cae9c458  Aves      Passeriformes    Turdidae   Ixoreus     naevius       12\n",
            "                                                             Mammalia  Cetartiodactyla  Cervidae   Odocoileus  hemionus      51\n",
            "                                                                       Primates         Hominidae  Homo        sapiens       15\n",
            "                                                                                                                             ..\n",
            "2018-09-17/2018-09-23  ea0a80e1-7114-468f-8ac3-ba16907dfe40  Mammalia  Cetartiodactyla  Cervidae   Odocoileus  hemionus      69\n",
            "                                                                       Lagomorpha       Leporidae  Lepus       americanus     6\n",
            "                       f46075e2-db48-458e-a268-57378ce9b9de  Mammalia  Carnivora        Canidae    Canis       latrans        3\n",
            "                                                                                                               lupus         85\n",
            "                                                                                        Felidae    Lynx        canadensis     6\n",
            "Name: count, Length: 3157, dtype: int64\n",
            "class         order            family         genus           species     \n",
            "Aves          Galliformes      Phasianidae    Bonasa          umbellus         11\n",
            "                                              Dendragapus     fuliginosus      47\n",
            "                                              Falcipennis     canadensis       49\n",
            "              Passeriformes    Alaudidae      Eremophila      alpestris         1\n",
            "                               Corvidae       Corvus          corax             4\n",
            "                                              Cyanocitta      stelleri          1\n",
            "                                              Nucifraga       columbiana        6\n",
            "                                              Perisoreus      canadensis        2\n",
            "                               Fringillidae   Spinus          pinus             1\n",
            "                               Paridae        Poecile         gambeli           1\n",
            "                               Parulidae      Setophaga       coronata          4\n",
            "                                                              ruticilla         1\n",
            "                               Passerellidae  Junco           hyemalis         17\n",
            "                                              Passerella      iliaca            5\n",
            "                                              Pipilo          maculatus         8\n",
            "                                              Spizella        passerina         2\n",
            "                               Regulidae      Regulus         calendula         1\n",
            "                                                              satrapa           1\n",
            "                               Turdidae       Catharus        guttatus         24\n",
            "                                              Ixoreus         naevius          23\n",
            "                                              Myadestes       townsendi         1\n",
            "                                              Turdus          migratorius      12\n",
            "                               Tyrannidae     Empidonax       oberholseri       1\n",
            "              Piciformes       Picidae        Colaptes        auratus           6\n",
            "                                              Leuconotopicus  villosus          1\n",
            "Mammalia      Artiodactyla     Bovidae        Bos             taurus           15\n",
            "              Carnivora        Canidae        Canis           familiaris      115\n",
            "                                                              latrans          92\n",
            "                                                              lupus            92\n",
            "                               Felidae        Lynx            canadensis       71\n",
            "                                                              rufus             1\n",
            "                                              Puma            concolor         14\n",
            "                               Mustelidae     Lontra          canadensis        1\n",
            "                                              Martes          americana        21\n",
            "                                              Mustela         erminea           2\n",
            "                                              Pekania         pennanti          2\n",
            "                               Ursidae        Ursus           americanus       94\n",
            "                                                              arctos           27\n",
            "              Cetartiodactyla  Cervidae       Alces           alces            11\n",
            "                                              Odocoileus      hemionus        190\n",
            "              Lagomorpha       Leporidae      Lepus           americanus       30\n",
            "              Perissodactyla   Equidae        Equus           caballus          9\n",
            "              Primates         Hominidae      Homo            sapiens          26\n",
            "              Rodentia         Sciuridae      Tamiasciurus    douglasii         3\n",
            "No CV Result  No CV Result     No CV Result   No CV Result    No CV Result      2\n",
            "Unknown       Unknown          Unknown        Unknown         Unknown          59\n",
            "Name: count1, dtype: int64\n"
          ]
        }
      ]
    },
    {
      "cell_type": "markdown",
      "source": [
        "Compilado das imagens e datas em que foram coletadas"
      ],
      "metadata": {
        "id": "5QS3m7jZ_myQ"
      }
    },
    {
      "cell_type": "code",
      "source": [
        "df['Dates'] = pd.to_datetime(df['timestamp']).dt.date \n",
        "\n",
        "df['Média'] = 0 \n",
        "datafinal = df.groupby(['Dates']).count()['Média']\n",
        "print(datafinal)"
      ],
      "metadata": {
        "id": "MTuTdf0kFXx0",
        "colab": {
          "base_uri": "https://localhost:8080/"
        },
        "outputId": "b0cdcc19-fe31-4186-a687-a13ed75c9ddd"
      },
      "execution_count": null,
      "outputs": [
        {
          "output_type": "stream",
          "name": "stdout",
          "text": [
            "Dates\n",
            "2018-05-12     48\n",
            "2018-05-13     16\n",
            "2018-05-14    160\n",
            "2018-05-15      3\n",
            "2018-05-16     89\n",
            "             ... \n",
            "2019-05-14      2\n",
            "2019-05-15      1\n",
            "2019-05-18     11\n",
            "2019-05-19      2\n",
            "2019-05-20     25\n",
            "Name: Média, Length: 238, dtype: int64\n"
          ]
        }
      ]
    },
    {
      "cell_type": "code",
      "source": [
        "datafinal.to_excel('data.xlsx') # Exportação do arquivo final em .xlsx"
      ],
      "metadata": {
        "id": "RAJwL4-rbdZK"
      },
      "execution_count": null,
      "outputs": []
    },
    {
      "cell_type": "markdown",
      "source": [
        "Latitude e longitude - Pontificação"
      ],
      "metadata": {
        "id": "uq55WVa-aeX4"
      }
    },
    {
      "cell_type": "code",
      "source": [
        "camera = pd.read_csv('/content/deployments.csv', sep=',') # Variável com o database\n",
        "#print(camera.head(5))\n",
        "\n",
        "camera.columns # Colunas presente no banco \n",
        "\n",
        "x = camera.drop(columns=['project_id', 'start_date',\n",
        "       'end_date', 'bait_type', 'bait_description', 'feature_type',\n",
        "       'feature_type_methodology', 'camera_id', 'quiet_period',\n",
        "       'camera_functioning', 'sensor_height', 'height_other',\n",
        "       'sensor_orientation', 'orientation_other', 'plot_treatment',\n",
        "       'detection_distance', 'subproject_name', 'subproject_design',\n",
        "       'event_name', 'event_description', 'event_type', 'recorded_by',\n",
        "       'fuzzed']) # Variável somente com as colunas essenciais\n",
        "\n",
        "print(x)\n",
        "\n",
        "x.to_excel('camera.xlsx') # Exportação do arquivo em .xlsx"
      ],
      "metadata": {
        "id": "KRJTj1esajT0",
        "colab": {
          "base_uri": "https://localhost:8080/"
        },
        "outputId": "4bbcae6a-fb43-4efb-d0cf-2ed8d010c7b8"
      },
      "execution_count": null,
      "outputs": [
        {
          "output_type": "stream",
          "name": "stdout",
          "text": [
            "                            deployment_id   longitude   latitude\n",
            "0    97a0e2f0-5666-45d8-be09-e856498d6023 -123.034390  50.940970\n",
            "1    069593dc-13b6-40a6-9075-2f097928919c -122.745380  50.903290\n",
            "2    874e6952-add5-4b54-98a5-f5e27a12708d -123.034390  50.940970\n",
            "3    d32de3ed-d33a-47cc-9050-bf9a36c40285 -122.809430  51.065290\n",
            "4    bff69609-dcee-4b51-9ea1-5720dd66f6d0 -122.891620  50.879800\n",
            "..                                    ...         ...        ...\n",
            "143  dfacebdd-3d13-4744-b17c-c68daa588249 -122.735570  50.927690\n",
            "144  acd54ef6-089f-4879-95f6-0080d1d6ab2e -122.889363  51.067641\n",
            "145  082bcc05-abcc-4e22-9018-5a75cae9c458 -122.882466  50.960709\n",
            "146  708ff79c-0440-4be7-b7a6-7b0ea9a244a7 -123.107702  51.018076\n",
            "147  d4edd15c-1dc0-497d-96ac-5164981bdc43 -122.964420  50.951897\n",
            "\n",
            "[148 rows x 3 columns]\n"
          ]
        }
      ]
    }
  ]
}